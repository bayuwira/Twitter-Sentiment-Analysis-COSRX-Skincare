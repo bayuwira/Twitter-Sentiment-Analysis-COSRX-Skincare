{
 "cells": [
  {
   "cell_type": "code",
   "execution_count": 57,
   "metadata": {},
   "outputs": [],
   "source": [
    "import numpy as np\n",
    "import pandas as pd  \n",
    "import matplotlib.pyplot as plt\n",
    "\n",
    "from sklearn.model_selection import train_test_split\n",
    "from sklearn.feature_extraction.text import CountVectorizer,TfidfVectorizer, HashingVectorizer\n",
    "from sklearn.feature_extraction.text import TfidfTransformer\n",
    "from sklearn.neural_network import MLPClassifier\n",
    "from sklearn.pipeline import Pipeline\n",
    "\n",
    "from pymongo import MongoClient\n",
    "from datetime import datetime"
   ]
  },
  {
   "cell_type": "code",
   "execution_count": 40,
   "metadata": {},
   "outputs": [],
   "source": [
    "client = MongoClient('localhost', 27017)\n",
    "db_client = client['cosrx_db']\n",
    "collection = db_client['data_label_total']\n",
    "collection_mlp = db_client['data_label_total_mlp']"
   ]
  },
  {
   "cell_type": "code",
   "execution_count": 41,
   "metadata": {},
   "outputs": [
    {
     "data": {
      "text/html": [
       "<div>\n",
       "<style scoped>\n",
       "    .dataframe tbody tr th:only-of-type {\n",
       "        vertical-align: middle;\n",
       "    }\n",
       "\n",
       "    .dataframe tbody tr th {\n",
       "        vertical-align: top;\n",
       "    }\n",
       "\n",
       "    .dataframe thead th {\n",
       "        text-align: right;\n",
       "    }\n",
       "</style>\n",
       "<table border=\"1\" class=\"dataframe\">\n",
       "  <thead>\n",
       "    <tr style=\"text-align: right;\">\n",
       "      <th></th>\n",
       "      <th>_id</th>\n",
       "      <th>id</th>\n",
       "      <th>tanggal_dibuat</th>\n",
       "      <th>tweet_in</th>\n",
       "      <th>tweet_en</th>\n",
       "      <th>sentiment</th>\n",
       "      <th>polarity</th>\n",
       "    </tr>\n",
       "  </thead>\n",
       "  <tbody>\n",
       "    <tr>\n",
       "      <th>0</th>\n",
       "      <td>5fe1ef1aa5957c6a855d07cb</td>\n",
       "      <td>1091120986827575300</td>\n",
       "      <td>Thu Jan 31 23:48:09 +0000 2019</td>\n",
       "      <td>cosrx ya kak</td>\n",
       "      <td>Sosrh I'm like</td>\n",
       "      <td>netral</td>\n",
       "      <td>0.00</td>\n",
       "    </tr>\n",
       "    <tr>\n",
       "      <th>1</th>\n",
       "      <td>5fe1ef1aa5957c6a855d07cc</td>\n",
       "      <td>1091118780040634400</td>\n",
       "      <td>Thu Jan 31 23:39:23 +0000 2019</td>\n",
       "      <td>aku kalo benton biasanya satu pam di taruh di ...</td>\n",
       "      <td>I usually put one pam in my hand and then spre...</td>\n",
       "      <td>negatif</td>\n",
       "      <td>-0.25</td>\n",
       "    </tr>\n",
       "    <tr>\n",
       "      <th>2</th>\n",
       "      <td>5fe1ef1ba5957c6a855d07cd</td>\n",
       "      <td>1091024132043460600</td>\n",
       "      <td>Thu Jan 31 17:23:17 +0000 2019</td>\n",
       "      <td>krn aku pake cosrx aha bha cocok dan muka ku k...</td>\n",
       "      <td>Because I use Cosrx, aha bha suits and my face...</td>\n",
       "      <td>positif</td>\n",
       "      <td>0.10</td>\n",
       "    </tr>\n",
       "    <tr>\n",
       "      <th>3</th>\n",
       "      <td>5fe1ef1ba5957c6a855d07ce</td>\n",
       "      <td>1091005199471112200</td>\n",
       "      <td>Thu Jan 31 16:08:04 +0000 2019</td>\n",
       "      <td>masih cosrx centella non alcohol toner biore w...</td>\n",
       "      <td>still cosrx centella non alcohol toner biore w...</td>\n",
       "      <td>netral</td>\n",
       "      <td>0.00</td>\n",
       "    </tr>\n",
       "    <tr>\n",
       "      <th>4</th>\n",
       "      <td>5fe1ef1ba5957c6a855d07cf</td>\n",
       "      <td>1091004244256116700</td>\n",
       "      <td>Thu Jan 31 16:04:16 +0000 2019</td>\n",
       "      <td>semuanya wkwkwk krn sebucin itu sama cosrx ini...</td>\n",
       "      <td>everyone wkwkwk because it's as cute as this c...</td>\n",
       "      <td>positif</td>\n",
       "      <td>0.30</td>\n",
       "    </tr>\n",
       "    <tr>\n",
       "      <th>5</th>\n",
       "      <td>5fe1ef1ca5957c6a855d07d0</td>\n",
       "      <td>1090999586326405100</td>\n",
       "      <td>Thu Jan 31 15:45:45 +0000 2019</td>\n",
       "      <td>aku mau cosrx essence yang snail mucin</td>\n",
       "      <td>I want a snail mucin Cosrx essence</td>\n",
       "      <td>netral</td>\n",
       "      <td>0.00</td>\n",
       "    </tr>\n",
       "    <tr>\n",
       "      <th>6</th>\n",
       "      <td>5fe1ef1ca5957c6a855d07d1</td>\n",
       "      <td>1090992908411400200</td>\n",
       "      <td>Thu Jan 31 15:19:13 +0000 2019</td>\n",
       "      <td>toner cosrx aha bha</td>\n",
       "      <td>The tone corrects</td>\n",
       "      <td>netral</td>\n",
       "      <td>0.00</td>\n",
       "    </tr>\n",
       "    <tr>\n",
       "      <th>7</th>\n",
       "      <td>5fe1ef1ca5957c6a855d07d2</td>\n",
       "      <td>1090980101246861300</td>\n",
       "      <td>Thu Jan 31 14:28:20 +0000 2019</td>\n",
       "      <td>depends on jual apa kott dulu jual my cosrx st...</td>\n",
       "      <td>depends on what Kott sells first, sell my Cosr...</td>\n",
       "      <td>positif</td>\n",
       "      <td>0.25</td>\n",
       "    </tr>\n",
       "    <tr>\n",
       "      <th>8</th>\n",
       "      <td>5fe1ef1da5957c6a855d07d3</td>\n",
       "      <td>1090977182480969700</td>\n",
       "      <td>Thu Jan 31 14:16:44 +0000 2019</td>\n",
       "      <td>mau beli cosrx aha bha tapi maju mundur</td>\n",
       "      <td>want to buy cosrx aha bha but back and forth</td>\n",
       "      <td>netral</td>\n",
       "      <td>0.00</td>\n",
       "    </tr>\n",
       "    <tr>\n",
       "      <th>9</th>\n",
       "      <td>5fe1ef1da5957c6a855d07d4</td>\n",
       "      <td>1090970267487109100</td>\n",
       "      <td>Thu Jan 31 13:49:15 +0000 2019</td>\n",
       "      <td>aku pake cosrx centella blesmish aja si</td>\n",
       "      <td>I just used Cosrx Centella Blesmish</td>\n",
       "      <td>netral</td>\n",
       "      <td>0.00</td>\n",
       "    </tr>\n",
       "  </tbody>\n",
       "</table>\n",
       "</div>"
      ],
      "text/plain": [
       "                        _id                   id  \\\n",
       "0  5fe1ef1aa5957c6a855d07cb  1091120986827575300   \n",
       "1  5fe1ef1aa5957c6a855d07cc  1091118780040634400   \n",
       "2  5fe1ef1ba5957c6a855d07cd  1091024132043460600   \n",
       "3  5fe1ef1ba5957c6a855d07ce  1091005199471112200   \n",
       "4  5fe1ef1ba5957c6a855d07cf  1091004244256116700   \n",
       "5  5fe1ef1ca5957c6a855d07d0  1090999586326405100   \n",
       "6  5fe1ef1ca5957c6a855d07d1  1090992908411400200   \n",
       "7  5fe1ef1ca5957c6a855d07d2  1090980101246861300   \n",
       "8  5fe1ef1da5957c6a855d07d3  1090977182480969700   \n",
       "9  5fe1ef1da5957c6a855d07d4  1090970267487109100   \n",
       "\n",
       "                   tanggal_dibuat  \\\n",
       "0  Thu Jan 31 23:48:09 +0000 2019   \n",
       "1  Thu Jan 31 23:39:23 +0000 2019   \n",
       "2  Thu Jan 31 17:23:17 +0000 2019   \n",
       "3  Thu Jan 31 16:08:04 +0000 2019   \n",
       "4  Thu Jan 31 16:04:16 +0000 2019   \n",
       "5  Thu Jan 31 15:45:45 +0000 2019   \n",
       "6  Thu Jan 31 15:19:13 +0000 2019   \n",
       "7  Thu Jan 31 14:28:20 +0000 2019   \n",
       "8  Thu Jan 31 14:16:44 +0000 2019   \n",
       "9  Thu Jan 31 13:49:15 +0000 2019   \n",
       "\n",
       "                                            tweet_in  \\\n",
       "0                                       cosrx ya kak   \n",
       "1  aku kalo benton biasanya satu pam di taruh di ...   \n",
       "2  krn aku pake cosrx aha bha cocok dan muka ku k...   \n",
       "3  masih cosrx centella non alcohol toner biore w...   \n",
       "4  semuanya wkwkwk krn sebucin itu sama cosrx ini...   \n",
       "5             aku mau cosrx essence yang snail mucin   \n",
       "6                                toner cosrx aha bha   \n",
       "7  depends on jual apa kott dulu jual my cosrx st...   \n",
       "8            mau beli cosrx aha bha tapi maju mundur   \n",
       "9            aku pake cosrx centella blesmish aja si   \n",
       "\n",
       "                                            tweet_en sentiment  polarity  \n",
       "0                                    Sosrh I'm like     netral      0.00  \n",
       "1  I usually put one pam in my hand and then spre...   negatif     -0.25  \n",
       "2  Because I use Cosrx, aha bha suits and my face...   positif      0.10  \n",
       "3  still cosrx centella non alcohol toner biore w...    netral      0.00  \n",
       "4  everyone wkwkwk because it's as cute as this c...   positif      0.30  \n",
       "5                I want a snail mucin Cosrx essence     netral      0.00  \n",
       "6                                 The tone corrects     netral      0.00  \n",
       "7  depends on what Kott sells first, sell my Cosr...   positif      0.25  \n",
       "8      want to buy cosrx aha bha but back and forth     netral      0.00  \n",
       "9               I just used Cosrx Centella Blesmish     netral      0.00  "
      ]
     },
     "execution_count": 41,
     "metadata": {},
     "output_type": "execute_result"
    }
   ],
   "source": [
    "data = pd.DataFrame(list(collection.find()))\n",
    "data.head(10)"
   ]
  },
  {
   "cell_type": "code",
   "execution_count": 32,
   "metadata": {},
   "outputs": [
    {
     "data": {
      "text/plain": [
       "<AxesSubplot:>"
      ]
     },
     "execution_count": 32,
     "metadata": {},
     "output_type": "execute_result"
    },
    {
     "data": {
      "image/png": "[encoded data removed]",
      "text/plain": [
       "<Figure size 432x288 with 1 Axes>"
      ]
     },
     "metadata": {
      "needs_background": "light"
     },
     "output_type": "display_data"
    }
   ],
   "source": [
    "data['sentiment'].value_counts().plot.bar(rot=0)"
   ]
  },
  {
   "cell_type": "code",
   "execution_count": 36,
   "metadata": {},
   "outputs": [
    {
     "data": {
      "text/plain": [
       "netral     29603\n",
       "positif    24801\n",
       "negatif     7363\n",
       "Name: sentiment, dtype: int64"
      ]
     },
     "execution_count": 36,
     "metadata": {},
     "output_type": "execute_result"
    }
   ],
   "source": [
    "data['sentiment'].value_counts()"
   ]
  },
  {
   "cell_type": "code",
   "execution_count": 6,
   "metadata": {},
   "outputs": [],
   "source": [
    "def convert_to_bin(text, remove_digits=True):\n",
    "    if text=='positif':\n",
    "        text= 1\n",
    "    elif text=='netral':\n",
    "        text=1\n",
    "    else:\n",
    "        text=0\n",
    "    return text"
   ]
  },
  {
   "cell_type": "code",
   "execution_count": 7,
   "metadata": {},
   "outputs": [],
   "source": [
    "def convert_to_sentiment(value):\n",
    "    if value==1:\n",
    "        value = 'positif'\n",
    "    else:\n",
    "        value = 'negatif'\n",
    "    return value"
   ]
  },
  {
   "cell_type": "code",
   "execution_count": 62,
   "metadata": {},
   "outputs": [],
   "source": [
    "def convert_date(dtime):\n",
    "    new_date = datetime.strftime(datetime.strptime(dtime,'%a %b %d %H:%M:%S +0000 %Y'), '%Y/%m/%d')\n",
    "    return new_date"
   ]
  },
  {
   "cell_type": "code",
   "execution_count": 8,
   "metadata": {},
   "outputs": [],
   "source": [
    "prepared = data.drop(columns=['_id', 'id', 'tanggal_dibuat', 'tweet_in', 'polarity'])\n",
    "# data['sentiment'] = data['sentiment'].apply(convert_to_bin)"
   ]
  },
  {
   "cell_type": "code",
   "execution_count": 9,
   "metadata": {},
   "outputs": [
    {
     "data": {
      "text/html": [
       "<div>\n",
       "<style scoped>\n",
       "    .dataframe tbody tr th:only-of-type {\n",
       "        vertical-align: middle;\n",
       "    }\n",
       "\n",
       "    .dataframe tbody tr th {\n",
       "        vertical-align: top;\n",
       "    }\n",
       "\n",
       "    .dataframe thead th {\n",
       "        text-align: right;\n",
       "    }\n",
       "</style>\n",
       "<table border=\"1\" class=\"dataframe\">\n",
       "  <thead>\n",
       "    <tr style=\"text-align: right;\">\n",
       "      <th></th>\n",
       "      <th>tweet_en</th>\n",
       "      <th>sentiment</th>\n",
       "    </tr>\n",
       "  </thead>\n",
       "  <tbody>\n",
       "    <tr>\n",
       "      <th>0</th>\n",
       "      <td>Sosrh I'm like</td>\n",
       "      <td>netral</td>\n",
       "    </tr>\n",
       "    <tr>\n",
       "      <th>1</th>\n",
       "      <td>I usually put one pam in my hand and then spre...</td>\n",
       "      <td>negatif</td>\n",
       "    </tr>\n",
       "    <tr>\n",
       "      <th>2</th>\n",
       "      <td>Because I use Cosrx, aha bha suits and my face...</td>\n",
       "      <td>positif</td>\n",
       "    </tr>\n",
       "    <tr>\n",
       "      <th>3</th>\n",
       "      <td>still cosrx centella non alcohol toner biore w...</td>\n",
       "      <td>netral</td>\n",
       "    </tr>\n",
       "    <tr>\n",
       "      <th>4</th>\n",
       "      <td>everyone wkwkwk because it's as cute as this c...</td>\n",
       "      <td>positif</td>\n",
       "    </tr>\n",
       "  </tbody>\n",
       "</table>\n",
       "</div>"
      ],
      "text/plain": [
       "                                            tweet_en sentiment\n",
       "0                                    Sosrh I'm like     netral\n",
       "1  I usually put one pam in my hand and then spre...   negatif\n",
       "2  Because I use Cosrx, aha bha suits and my face...   positif\n",
       "3  still cosrx centella non alcohol toner biore w...    netral\n",
       "4  everyone wkwkwk because it's as cute as this c...   positif"
      ]
     },
     "execution_count": 9,
     "metadata": {},
     "output_type": "execute_result"
    }
   ],
   "source": [
    "X = prepared['tweet_en'].values\n",
    "y = prepared['sentiment'].values\n",
    "prepared.head()"
   ]
  },
  {
   "cell_type": "code",
   "execution_count": 10,
   "metadata": {},
   "outputs": [],
   "source": [
    "x_train, x_test, y_train, y_test = train_test_split(X, y, test_size=0.2, random_state=400)"
   ]
  },
  {
   "cell_type": "code",
   "execution_count": 11,
   "metadata": {},
   "outputs": [
    {
     "name": "stdout",
     "output_type": "stream",
     "text": [
      "49413\n",
      "12354\n",
      "49413\n",
      "12354\n"
     ]
    }
   ],
   "source": [
    "print(len(x_train))\n",
    "print(len(x_test))\n",
    "print(len(y_train))\n",
    "print(len(y_test))"
   ]
  },
  {
   "cell_type": "code",
   "execution_count": 12,
   "metadata": {},
   "outputs": [],
   "source": [
    "clf = MLPClassifier()"
   ]
  },
  {
   "cell_type": "code",
   "execution_count": 13,
   "metadata": {},
   "outputs": [],
   "source": [
    "cvec=CountVectorizer()\n",
    "tvec=TfidfVectorizer()\n",
    "hvec=HashingVectorizer()"
   ]
  },
  {
   "cell_type": "code",
   "execution_count": 14,
   "metadata": {},
   "outputs": [],
   "source": [
    "model= Pipeline([('vectorizer',tvec)\n",
    "                 ,('classifier',clf)])"
   ]
  },
  {
   "cell_type": "code",
   "execution_count": 15,
   "metadata": {},
   "outputs": [
    {
     "data": {
      "text/plain": [
       "Pipeline(steps=[('vectorizer', TfidfVectorizer()),\n",
       "                ('classifier', MLPClassifier())])"
      ]
     },
     "execution_count": 15,
     "metadata": {},
     "output_type": "execute_result"
    }
   ],
   "source": [
    "model.fit(x_train,y_train)"
   ]
  },
  {
   "cell_type": "code",
   "execution_count": 17,
   "metadata": {},
   "outputs": [],
   "source": [
    "hasil=model.predict(x_test)"
   ]
  },
  {
   "cell_type": "code",
   "execution_count": 18,
   "metadata": {},
   "outputs": [
    {
     "data": {
      "text/plain": [
       "0.9628460417678485"
      ]
     },
     "execution_count": 18,
     "metadata": {},
     "output_type": "execute_result"
    }
   ],
   "source": [
    "from sklearn.metrics import accuracy_score\n",
    "accuracy_score(hasil,y_test)"
   ]
  },
  {
   "cell_type": "code",
   "execution_count": 19,
   "metadata": {},
   "outputs": [],
   "source": [
    "all_data_set = model.predict(X) "
   ]
  },
  {
   "cell_type": "code",
   "execution_count": 20,
   "metadata": {},
   "outputs": [],
   "source": [
    "data = {\n",
    "    'tweet_en':X,\n",
    "    'sentiment_MLP': all_data_set\n",
    "}\n",
    "mlp_data = pd.DataFrame(data)\n",
    "mlp_data['sentiment_MLP'] = mlp_data['sentiment_MLP']"
   ]
  },
  {
   "cell_type": "code",
   "execution_count": 21,
   "metadata": {},
   "outputs": [
    {
     "data": {
      "text/html": [
       "<div>\n",
       "<style scoped>\n",
       "    .dataframe tbody tr th:only-of-type {\n",
       "        vertical-align: middle;\n",
       "    }\n",
       "\n",
       "    .dataframe tbody tr th {\n",
       "        vertical-align: top;\n",
       "    }\n",
       "\n",
       "    .dataframe thead th {\n",
       "        text-align: right;\n",
       "    }\n",
       "</style>\n",
       "<table border=\"1\" class=\"dataframe\">\n",
       "  <thead>\n",
       "    <tr style=\"text-align: right;\">\n",
       "      <th></th>\n",
       "      <th>tweet_en</th>\n",
       "      <th>sentiment_MLP</th>\n",
       "    </tr>\n",
       "  </thead>\n",
       "  <tbody>\n",
       "    <tr>\n",
       "      <th>0</th>\n",
       "      <td>Sosrh I'm like</td>\n",
       "      <td>netral</td>\n",
       "    </tr>\n",
       "    <tr>\n",
       "      <th>1</th>\n",
       "      <td>I usually put one pam in my hand and then spre...</td>\n",
       "      <td>negatif</td>\n",
       "    </tr>\n",
       "    <tr>\n",
       "      <th>2</th>\n",
       "      <td>Because I use Cosrx, aha bha suits and my face...</td>\n",
       "      <td>positif</td>\n",
       "    </tr>\n",
       "    <tr>\n",
       "      <th>3</th>\n",
       "      <td>still cosrx centella non alcohol toner biore w...</td>\n",
       "      <td>netral</td>\n",
       "    </tr>\n",
       "    <tr>\n",
       "      <th>4</th>\n",
       "      <td>everyone wkwkwk because it's as cute as this c...</td>\n",
       "      <td>positif</td>\n",
       "    </tr>\n",
       "  </tbody>\n",
       "</table>\n",
       "</div>"
      ],
      "text/plain": [
       "                                            tweet_en sentiment_MLP\n",
       "0                                    Sosrh I'm like         netral\n",
       "1  I usually put one pam in my hand and then spre...       negatif\n",
       "2  Because I use Cosrx, aha bha suits and my face...       positif\n",
       "3  still cosrx centella non alcohol toner biore w...        netral\n",
       "4  everyone wkwkwk because it's as cute as this c...       positif"
      ]
     },
     "execution_count": 21,
     "metadata": {},
     "output_type": "execute_result"
    }
   ],
   "source": [
    "mlp_data.head()"
   ]
  },
  {
   "cell_type": "code",
   "execution_count": 22,
   "metadata": {},
   "outputs": [
    {
     "data": {
      "text/plain": [
       "<AxesSubplot:>"
      ]
     },
     "execution_count": 22,
     "metadata": {},
     "output_type": "execute_result"
    },
    {
     "data": {
      "image/png": "[encoded data removed]",
      "text/plain": [
       "<Figure size 432x288 with 1 Axes>"
      ]
     },
     "metadata": {
      "needs_background": "light"
     },
     "output_type": "display_data"
    }
   ],
   "source": [
    "mlp_data['sentiment_MLP'].value_counts().plot.bar(rot=0)"
   ]
  },
  {
   "cell_type": "code",
   "execution_count": 23,
   "metadata": {},
   "outputs": [
    {
     "data": {
      "text/plain": [
       "netral     29670\n",
       "positif    24775\n",
       "negatif     7322\n",
       "Name: sentiment_MLP, dtype: int64"
      ]
     },
     "execution_count": 23,
     "metadata": {},
     "output_type": "execute_result"
    }
   ],
   "source": [
    "mlp_data['sentiment_MLP'].value_counts()"
   ]
  },
  {
   "cell_type": "code",
   "execution_count": 67,
   "metadata": {},
   "outputs": [
    {
     "data": {
      "text/plain": [
       "0         netral\n",
       "1        negatif\n",
       "2        positif\n",
       "3         netral\n",
       "4        positif\n",
       "          ...   \n",
       "61762    negatif\n",
       "61763    positif\n",
       "61764    negatif\n",
       "61765     netral\n",
       "61766    positif\n",
       "Name: sentiment, Length: 61767, dtype: object"
      ]
     },
     "execution_count": 67,
     "metadata": {},
     "output_type": "execute_result"
    }
   ],
   "source": [
    "data = pd.DataFrame(list(collection.find()))\n",
    "data[\"sentiment\"].replace(mlp_data['sentiment_MLP'])"
   ]
  },
  {
   "cell_type": "code",
   "execution_count": 70,
   "metadata": {},
   "outputs": [
    {
     "data": {
      "text/html": [
       "<div>\n",
       "<style scoped>\n",
       "    .dataframe tbody tr th:only-of-type {\n",
       "        vertical-align: middle;\n",
       "    }\n",
       "\n",
       "    .dataframe tbody tr th {\n",
       "        vertical-align: top;\n",
       "    }\n",
       "\n",
       "    .dataframe thead th {\n",
       "        text-align: right;\n",
       "    }\n",
       "</style>\n",
       "<table border=\"1\" class=\"dataframe\">\n",
       "  <thead>\n",
       "    <tr style=\"text-align: right;\">\n",
       "      <th></th>\n",
       "      <th>_id</th>\n",
       "      <th>id</th>\n",
       "      <th>tanggal_dibuat</th>\n",
       "      <th>tweet_in</th>\n",
       "      <th>tweet_en</th>\n",
       "      <th>sentiment</th>\n",
       "      <th>polarity</th>\n",
       "    </tr>\n",
       "  </thead>\n",
       "  <tbody>\n",
       "    <tr>\n",
       "      <th>0</th>\n",
       "      <td>5fe1ef1aa5957c6a855d07cb</td>\n",
       "      <td>1091120986827575300</td>\n",
       "      <td>Thu Jan 31 23:48:09 +0000 2019</td>\n",
       "      <td>cosrx ya kak</td>\n",
       "      <td>Sosrh I'm like</td>\n",
       "      <td>netral</td>\n",
       "      <td>0.00</td>\n",
       "    </tr>\n",
       "    <tr>\n",
       "      <th>1</th>\n",
       "      <td>5fe1ef1aa5957c6a855d07cc</td>\n",
       "      <td>1091118780040634400</td>\n",
       "      <td>Thu Jan 31 23:39:23 +0000 2019</td>\n",
       "      <td>aku kalo benton biasanya satu pam di taruh di ...</td>\n",
       "      <td>I usually put one pam in my hand and then spre...</td>\n",
       "      <td>negatif</td>\n",
       "      <td>-0.25</td>\n",
       "    </tr>\n",
       "    <tr>\n",
       "      <th>2</th>\n",
       "      <td>5fe1ef1ba5957c6a855d07cd</td>\n",
       "      <td>1091024132043460600</td>\n",
       "      <td>Thu Jan 31 17:23:17 +0000 2019</td>\n",
       "      <td>krn aku pake cosrx aha bha cocok dan muka ku k...</td>\n",
       "      <td>Because I use Cosrx, aha bha suits and my face...</td>\n",
       "      <td>positif</td>\n",
       "      <td>0.10</td>\n",
       "    </tr>\n",
       "    <tr>\n",
       "      <th>3</th>\n",
       "      <td>5fe1ef1ba5957c6a855d07ce</td>\n",
       "      <td>1091005199471112200</td>\n",
       "      <td>Thu Jan 31 16:08:04 +0000 2019</td>\n",
       "      <td>masih cosrx centella non alcohol toner biore w...</td>\n",
       "      <td>still cosrx centella non alcohol toner biore w...</td>\n",
       "      <td>netral</td>\n",
       "      <td>0.00</td>\n",
       "    </tr>\n",
       "    <tr>\n",
       "      <th>4</th>\n",
       "      <td>5fe1ef1ba5957c6a855d07cf</td>\n",
       "      <td>1091004244256116700</td>\n",
       "      <td>Thu Jan 31 16:04:16 +0000 2019</td>\n",
       "      <td>semuanya wkwkwk krn sebucin itu sama cosrx ini...</td>\n",
       "      <td>everyone wkwkwk because it's as cute as this c...</td>\n",
       "      <td>positif</td>\n",
       "      <td>0.30</td>\n",
       "    </tr>\n",
       "  </tbody>\n",
       "</table>\n",
       "</div>"
      ],
      "text/plain": [
       "                        _id                   id  \\\n",
       "0  5fe1ef1aa5957c6a855d07cb  1091120986827575300   \n",
       "1  5fe1ef1aa5957c6a855d07cc  1091118780040634400   \n",
       "2  5fe1ef1ba5957c6a855d07cd  1091024132043460600   \n",
       "3  5fe1ef1ba5957c6a855d07ce  1091005199471112200   \n",
       "4  5fe1ef1ba5957c6a855d07cf  1091004244256116700   \n",
       "\n",
       "                   tanggal_dibuat  \\\n",
       "0  Thu Jan 31 23:48:09 +0000 2019   \n",
       "1  Thu Jan 31 23:39:23 +0000 2019   \n",
       "2  Thu Jan 31 17:23:17 +0000 2019   \n",
       "3  Thu Jan 31 16:08:04 +0000 2019   \n",
       "4  Thu Jan 31 16:04:16 +0000 2019   \n",
       "\n",
       "                                            tweet_in  \\\n",
       "0                                       cosrx ya kak   \n",
       "1  aku kalo benton biasanya satu pam di taruh di ...   \n",
       "2  krn aku pake cosrx aha bha cocok dan muka ku k...   \n",
       "3  masih cosrx centella non alcohol toner biore w...   \n",
       "4  semuanya wkwkwk krn sebucin itu sama cosrx ini...   \n",
       "\n",
       "                                            tweet_en sentiment  polarity  \n",
       "0                                    Sosrh I'm like     netral      0.00  \n",
       "1  I usually put one pam in my hand and then spre...   negatif     -0.25  \n",
       "2  Because I use Cosrx, aha bha suits and my face...   positif      0.10  \n",
       "3  still cosrx centella non alcohol toner biore w...    netral      0.00  \n",
       "4  everyone wkwkwk because it's as cute as this c...   positif      0.30  "
      ]
     },
     "execution_count": 70,
     "metadata": {},
     "output_type": "execute_result"
    }
   ],
   "source": [
    "data.head()"
   ]
  },
  {
   "cell_type": "code",
   "execution_count": 71,
   "metadata": {},
   "outputs": [],
   "source": [
    "data[\"tanggal_dibuat\"] = data[\"tanggal_dibuat\"].apply(convert_date)"
   ]
  },
  {
   "cell_type": "code",
   "execution_count": 72,
   "metadata": {},
   "outputs": [
    {
     "data": {
      "text/html": [
       "<div>\n",
       "<style scoped>\n",
       "    .dataframe tbody tr th:only-of-type {\n",
       "        vertical-align: middle;\n",
       "    }\n",
       "\n",
       "    .dataframe tbody tr th {\n",
       "        vertical-align: top;\n",
       "    }\n",
       "\n",
       "    .dataframe thead th {\n",
       "        text-align: right;\n",
       "    }\n",
       "</style>\n",
       "<table border=\"1\" class=\"dataframe\">\n",
       "  <thead>\n",
       "    <tr style=\"text-align: right;\">\n",
       "      <th></th>\n",
       "      <th>_id</th>\n",
       "      <th>id</th>\n",
       "      <th>tanggal_dibuat</th>\n",
       "      <th>tweet_in</th>\n",
       "      <th>tweet_en</th>\n",
       "      <th>sentiment</th>\n",
       "      <th>polarity</th>\n",
       "    </tr>\n",
       "  </thead>\n",
       "  <tbody>\n",
       "    <tr>\n",
       "      <th>0</th>\n",
       "      <td>5fe1ef1aa5957c6a855d07cb</td>\n",
       "      <td>1091120986827575300</td>\n",
       "      <td>2019/01/31</td>\n",
       "      <td>cosrx ya kak</td>\n",
       "      <td>Sosrh I'm like</td>\n",
       "      <td>netral</td>\n",
       "      <td>0.00</td>\n",
       "    </tr>\n",
       "    <tr>\n",
       "      <th>1</th>\n",
       "      <td>5fe1ef1aa5957c6a855d07cc</td>\n",
       "      <td>1091118780040634400</td>\n",
       "      <td>2019/01/31</td>\n",
       "      <td>aku kalo benton biasanya satu pam di taruh di ...</td>\n",
       "      <td>I usually put one pam in my hand and then spre...</td>\n",
       "      <td>negatif</td>\n",
       "      <td>-0.25</td>\n",
       "    </tr>\n",
       "    <tr>\n",
       "      <th>2</th>\n",
       "      <td>5fe1ef1ba5957c6a855d07cd</td>\n",
       "      <td>1091024132043460600</td>\n",
       "      <td>2019/01/31</td>\n",
       "      <td>krn aku pake cosrx aha bha cocok dan muka ku k...</td>\n",
       "      <td>Because I use Cosrx, aha bha suits and my face...</td>\n",
       "      <td>positif</td>\n",
       "      <td>0.10</td>\n",
       "    </tr>\n",
       "    <tr>\n",
       "      <th>3</th>\n",
       "      <td>5fe1ef1ba5957c6a855d07ce</td>\n",
       "      <td>1091005199471112200</td>\n",
       "      <td>2019/01/31</td>\n",
       "      <td>masih cosrx centella non alcohol toner biore w...</td>\n",
       "      <td>still cosrx centella non alcohol toner biore w...</td>\n",
       "      <td>netral</td>\n",
       "      <td>0.00</td>\n",
       "    </tr>\n",
       "    <tr>\n",
       "      <th>4</th>\n",
       "      <td>5fe1ef1ba5957c6a855d07cf</td>\n",
       "      <td>1091004244256116700</td>\n",
       "      <td>2019/01/31</td>\n",
       "      <td>semuanya wkwkwk krn sebucin itu sama cosrx ini...</td>\n",
       "      <td>everyone wkwkwk because it's as cute as this c...</td>\n",
       "      <td>positif</td>\n",
       "      <td>0.30</td>\n",
       "    </tr>\n",
       "  </tbody>\n",
       "</table>\n",
       "</div>"
      ],
      "text/plain": [
       "                        _id                   id tanggal_dibuat  \\\n",
       "0  5fe1ef1aa5957c6a855d07cb  1091120986827575300     2019/01/31   \n",
       "1  5fe1ef1aa5957c6a855d07cc  1091118780040634400     2019/01/31   \n",
       "2  5fe1ef1ba5957c6a855d07cd  1091024132043460600     2019/01/31   \n",
       "3  5fe1ef1ba5957c6a855d07ce  1091005199471112200     2019/01/31   \n",
       "4  5fe1ef1ba5957c6a855d07cf  1091004244256116700     2019/01/31   \n",
       "\n",
       "                                            tweet_in  \\\n",
       "0                                       cosrx ya kak   \n",
       "1  aku kalo benton biasanya satu pam di taruh di ...   \n",
       "2  krn aku pake cosrx aha bha cocok dan muka ku k...   \n",
       "3  masih cosrx centella non alcohol toner biore w...   \n",
       "4  semuanya wkwkwk krn sebucin itu sama cosrx ini...   \n",
       "\n",
       "                                            tweet_en sentiment  polarity  \n",
       "0                                    Sosrh I'm like     netral      0.00  \n",
       "1  I usually put one pam in my hand and then spre...   negatif     -0.25  \n",
       "2  Because I use Cosrx, aha bha suits and my face...   positif      0.10  \n",
       "3  still cosrx centella non alcohol toner biore w...    netral      0.00  \n",
       "4  everyone wkwkwk because it's as cute as this c...   positif      0.30  "
      ]
     },
     "execution_count": 72,
     "metadata": {},
     "output_type": "execute_result"
    }
   ],
   "source": [
    "data.head()"
   ]
  },
  {
   "cell_type": "code",
   "execution_count": 74,
   "metadata": {},
   "outputs": [
    {
     "data": {
      "text/plain": [
       "<pymongo.results.InsertManyResult at 0x2774e863500>"
      ]
     },
     "execution_count": 74,
     "metadata": {},
     "output_type": "execute_result"
    }
   ],
   "source": [
    "new = db_client['data_label_total_mlp_convert_date']\n",
    "new.insert_many(data.to_dict('records'))"
   ]
  }
 ],
 "metadata": {
  "kernelspec": {
   "display_name": "Python 3",
   "language": "python",
   "name": "python3"
  },
  "language_info": {
   "codemirror_mode": {
    "name": "ipython",
    "version": 3
   },
   "file_extension": ".py",
   "mimetype": "text/x-python",
   "name": "python",
   "nbconvert_exporter": "python",
   "pygments_lexer": "ipython3",
   "version": "3.8.6"
  }
 },
 "nbformat": 4,
 "nbformat_minor": 4
}
