{
 "cells": [
  {
   "cell_type": "code",
   "execution_count": 1,
   "metadata": {},
   "outputs": [],
   "source": [
    "import json\n",
    "import snscrape.modules.twitter as snstwitter\n",
    "import tweepy\n",
    "from pymongo import MongoClient"
   ]
  },
  {
   "cell_type": "code",
   "execution_count": 2,
   "metadata": {},
   "outputs": [],
   "source": [
    "client = MongoClient('localhost', 27017)\n",
    "db_client = client['scarlett_db']\n",
    "collection = db_client['crawling_2']"
   ]
  },
  {
   "cell_type": "code",
   "execution_count": 3,
   "metadata": {},
   "outputs": [],
   "source": [
    "CONSUMER_KEY = \"ER6dm8K9Y2gGm4w3vHhJIxy8o\"\n",
    "CONSUMER_SECRET = \"InYaTVJjmIsG3PMp5nKOU6bMUXIyT7kHoJXtVXxsLYh9w1YOS5\"\n",
    "ACCESS_TOKEN = \"1330751702136365056-doRSWEBA00wZzOL03hXVMI5qTP2cDe\"\n",
    "ACCESS_TOKEN_SECRET = \"ZxCgwpV05w4cjRbUlhPyajUvvSwL5E9bZqVUQxjRTAE1c\""
   ]
  },
  {
   "cell_type": "code",
   "execution_count": 4,
   "metadata": {},
   "outputs": [
    {
     "name": "stdout",
     "output_type": "stream",
     "text": [
      "Berasil\n"
     ]
    }
   ],
   "source": [
    "auth = tweepy.OAuthHandler(CONSUMER_KEY, CONSUMER_SECRET)\n",
    "auth.set_access_token(ACCESS_TOKEN, ACCESS_TOKEN_SECRET)\n",
    "api = tweepy.API(auth, wait_on_rate_limit=True, wait_on_rate_limit_notify=True)\n",
    "last_id_saver = 'last_id.txt'\n",
    "if (not api):\n",
    "    sys.exit('Autentikasi gagal')\n",
    "else:\n",
    "    print(\"Berasil\")"
   ]
  },
  {
   "cell_type": "code",
   "execution_count": 5,
   "metadata": {},
   "outputs": [],
   "source": [
    "count = 1"
   ]
  },
  {
   "cell_type": "code",
   "execution_count": null,
   "metadata": {},
   "outputs": [],
   "source": [
    "search_words = ['scarlett']\n",
    "tweets = tweepy.Cursor(api.search, q=search_words, lang=\"in\",\n",
    "                       since='2020-01-01', tweet_mode='extended').items()\n",
    "while True:\n",
    "    # as long as I still have a tweet to grab\n",
    "    try:\n",
    "        data = tweets.next()\n",
    "    except StopIteration:\n",
    "        break\n",
    "    # convert from Python dict-like structure to JSON format\n",
    "    jsoned_data = json.dumps(data._json)\n",
    "    tweet = json.loads(jsoned_data)\n",
    "    # insert the information in the database\n",
    "    collection.insert_one(tweet)\n",
    "    count += 1\n",
    "    print('tweet tersimpan : ',  count)\n"
   ]
  },
  {
   "cell_type": "code",
   "execution_count": null,
   "metadata": {},
   "outputs": [],
   "source": []
  }
 ],
 "metadata": {
  "kernelspec": {
   "display_name": "Python 3",
   "language": "python",
   "name": "python3"
  },
  "language_info": {
   "codemirror_mode": {
    "name": "ipython",
    "version": 3
   },
   "file_extension": ".py",
   "mimetype": "text/x-python",
   "name": "python",
   "nbconvert_exporter": "python",
   "pygments_lexer": "ipython3",
   "version": "3.8.6"
  }
 },
 "nbformat": 4,
 "nbformat_minor": 4
}
