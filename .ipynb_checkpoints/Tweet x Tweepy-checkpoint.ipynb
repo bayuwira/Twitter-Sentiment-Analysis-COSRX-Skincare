{
 "cells": [
  {
   "cell_type": "code",
   "execution_count": 7,
   "metadata": {},
   "outputs": [],
   "source": [
    "import tweepy\n",
    "import json\n",
    "import pymongo\n",
    "from pymongo import MongoClient\n",
    "import sys\n",
    "import os\n",
    "import twitter\n",
    "import GetOldTweets3 as got\n",
    "import snscrape.modules.twitter as snstwitter"
   ]
  },
  {
   "cell_type": "code",
   "execution_count": 8,
   "metadata": {},
   "outputs": [],
   "source": [
    "CONSUMER_KEY = \"funwzFqKuLlUC2hmAi6lzigWA\"\n",
    "CONSUMER_SECRET = \"eyFXp1lsra89N0HlxKrSrKH0zsHrnNE2rz6hlJCEceYeWSdbXU\"\n",
    "ACCESS_TOKEN = \"1330751702136365056-JUzNs21EoF7p46IkDaMdX5Wj2i92iP\"\n",
    "ACCESS_TOKEN_SECRET = \"HRdMHuOmCiOyDMCrSdNzpWDsXzodmnF5P7sCxms0JBVTM\""
   ]
  },
  {
   "cell_type": "code",
   "execution_count": 9,
   "metadata": {},
   "outputs": [
    {
     "name": "stdout",
     "output_type": "stream",
     "text": [
      "Berasil\n"
     ]
    }
   ],
   "source": [
    "auth = tweepy.OAuthHandler(CONSUMER_KEY, CONSUMER_SECRET)\n",
    "auth.set_access_token(ACCESS_TOKEN, ACCESS_TOKEN_SECRET)\n",
    "\n",
    "rest_api = tweepy.API(auth, wait_on_rate_limit=True)\n",
    "if (not rest_api):\n",
    "    sys.exit('Autentikasi gagal')\n",
    "else:\n",
    "    print(\"Berasil\")"
   ]
  },
  {
   "cell_type": "code",
   "execution_count": 10,
   "metadata": {},
   "outputs": [
    {
     "data": {
      "text/plain": [
       "'id_1'"
      ]
     },
     "execution_count": 10,
     "metadata": {},
     "output_type": "execute_result"
    }
   ],
   "source": [
    "client = MongoClient('localhost', 27017)\n",
    "db = client['skincare_db']\n",
    "collection = db['database_skincare']\n",
    "collection.create_index([(\"id\", pymongo.ASCENDING)],  unique=True)"
   ]
  },
  {
   "cell_type": "code",
   "execution_count": 11,
   "metadata": {},
   "outputs": [],
   "source": [
    "query = \"COSRX\"\n",
    "crawling_rate = 100000"
   ]
  },
  {
   "cell_type": "code",
   "execution_count": 12,
   "metadata": {},
   "outputs": [],
   "source": [
    "search_result = rest_api.search(count=crawling_rate, q=query, tweet_mode=\"extended\", lang='in')\n",
    "since_id_new = search_result[-1].id\n",
    "for tweet in search_result:\n",
    "    try:\n",
    "        tweet_collection.insert_one(tweet)\n",
    "    except:\n",
    "        pass"
   ]
  },
  {
   "cell_type": "code",
   "execution_count": 19,
   "metadata": {},
   "outputs": [
    {
     "name": "stdout",
     "output_type": "stream",
     "text": [
      "Jumlah tweet yang sudah disimpan 99 \n",
      "Jumlah tweet yang sudah disimpan 199 \n",
      "Jumlah tweet yang sudah disimpan 293 \n",
      "Jumlah tweet yang sudah disimpan 393 \n",
      "Jumlah tweet yang sudah disimpan 491 \n",
      "Jumlah tweet yang sudah disimpan 591 \n",
      "Jumlah tweet yang sudah disimpan 691 \n",
      "Jumlah tweet yang sudah disimpan 791 \n",
      "Jumlah tweet yang sudah disimpan 883 \n",
      "Jumlah tweet yang sudah disimpan 975 \n",
      "Jumlah tweet yang sudah disimpan 1075 \n",
      "Jumlah tweet yang sudah disimpan 1174 \n",
      "Jumlah tweet yang sudah disimpan 1258 \n",
      "Jumlah tweet yang sudah disimpan 1340 \n",
      "Jumlah tweet yang sudah disimpan 1440 \n",
      "Jumlah tweet yang sudah disimpan 1537 \n",
      "Jumlah tweet yang sudah disimpan 1631 \n",
      "Jumlah tweet yang sudah disimpan 1731 \n",
      "Jumlah tweet yang sudah disimpan 1826 \n",
      "Jumlah tweet yang sudah disimpan 1926 \n",
      "Jumlah tweet yang sudah disimpan 2026 \n",
      "Jumlah tweet yang sudah disimpan 2126 \n",
      "Jumlah tweet yang sudah disimpan 2224 \n",
      "Jumlah tweet yang sudah disimpan 2319 \n",
      "Jumlah tweet yang sudah disimpan 2419 \n",
      "Jumlah tweet yang sudah disimpan 2519 \n",
      "Jumlah tweet yang sudah disimpan 2619 \n",
      "Jumlah tweet yang sudah disimpan 2719 \n",
      "Jumlah tweet yang sudah disimpan 2818 \n",
      "Jumlah tweet yang sudah disimpan 2918 \n",
      "Jumlah tweet yang sudah disimpan 3007 \n",
      "Jumlah tweet yang sudah disimpan 3090 \n",
      "Jumlah tweet yang sudah disimpan 3185 \n",
      "Jumlah tweet yang sudah disimpan 3265 \n",
      "Jumlah tweet yang sudah disimpan 3362 \n",
      "Jumlah tweet yang sudah disimpan 3462 \n",
      "Jumlah tweet yang sudah disimpan 3562 \n",
      "Jumlah tweet yang sudah disimpan 3662 \n",
      "Jumlah tweet yang sudah disimpan 3762 \n",
      "Jumlah tweet yang sudah disimpan 3853 \n",
      "Jumlah tweet yang sudah disimpan 3953 \n",
      "Jumlah tweet yang sudah disimpan 4053 \n",
      "Jumlah tweet yang sudah disimpan 4153 \n",
      "Jumlah tweet yang sudah disimpan 4220 \n",
      "Jumlah tweet yang sudah disimpan 4221 \n"
     ]
    }
   ],
   "source": [
    "since_id_old = 0\n",
    "since_id_new = 1201272503655530497\n",
    "count = -1\n",
    "while(since_id_new != since_id_old):\n",
    "    since_id_old = since_id_new\n",
    "    search_result = rest_api.search(count=crawling_rate, q=query, tweet_mode=\"extended\", max_id=since_id_new).items()\n",
    "    count+=len(search_result)\n",
    "    sys.stdout.write(\"\\r\");sys.stdout.write(\"Jumlah tweet yang sudah disimpan %.0f \\n\" %count);sys.stdout.flush\n",
    "    since_id_new = search_result[-1].id\n",
    "    for tweet in search_result:\n",
    "        try:\n",
    "            json_str = json.dumps(tweet._json)\n",
    "            collection.insert_one(tweet._json)\n",
    "        except:\n",
    "            pass"
   ]
  },
  {
   "cell_type": "code",
   "execution_count": 20,
   "metadata": {},
   "outputs": [
    {
     "name": "stdout",
     "output_type": "stream",
     "text": [
      "1330670695089532929\n",
      "1330670695089532929\n"
     ]
    }
   ],
   "source": [
    "print(since_id_old)\n",
    "print(since_id_new)"
   ]
  },
  {
   "cell_type": "code",
   "execution_count": null,
   "metadata": {},
   "outputs": [],
   "source": []
  },
  {
   "cell_type": "code",
   "execution_count": null,
   "metadata": {},
   "outputs": [],
   "source": []
  },
  {
   "cell_type": "code",
   "execution_count": null,
   "metadata": {},
   "outputs": [],
   "source": []
  },
  {
   "cell_type": "code",
   "execution_count": null,
   "metadata": {},
   "outputs": [],
   "source": []
  }
 ],
 "metadata": {
  "kernelspec": {
   "display_name": "Python 3",
   "language": "python",
   "name": "python3"
  },
  "language_info": {
   "codemirror_mode": {
    "name": "ipython",
    "version": 3
   },
   "file_extension": ".py",
   "mimetype": "text/x-python",
   "name": "python",
   "nbconvert_exporter": "python",
   "pygments_lexer": "ipython3",
   "version": "3.8.6"
  }
 },
 "nbformat": 4,
 "nbformat_minor": 4
}
