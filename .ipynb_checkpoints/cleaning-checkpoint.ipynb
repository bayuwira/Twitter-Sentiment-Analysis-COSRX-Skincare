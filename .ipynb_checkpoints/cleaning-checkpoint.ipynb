{
 "cells": [
  {
   "cell_type": "code",
   "execution_count": 2,
   "metadata": {},
   "outputs": [],
   "source": [
    "import json\n",
    "from pymongo import MongoClient\n",
    "import re\n",
    "import math\n",
    "from Sastrawi.Stemmer.StemmerFactory import StemmerFactory\n",
    "import nltk\n",
    "from nltk.corpus import stopwords"
   ]
  },
  {
   "cell_type": "code",
   "execution_count": null,
   "metadata": {},
   "outputs": [],
   "source": []
  },
  {
   "cell_type": "code",
   "execution_count": 3,
   "metadata": {},
   "outputs": [],
   "source": [
    "client = MongoClient('localhost', 27017)\n",
    "db_client = client['cosrx_db']\n",
    "collection = db_client['crawling_dinda']\n",
    "collection_cleaner = db_client['data_clean']\n",
    "listStopword = set(nltk.corpus.stopwords.words('indonesian'))\n",
    "factory = StemmerFactory()\n",
    "stemmer = factory.create_stemmer()"
   ]
  },
  {
   "cell_type": "code",
   "execution_count": null,
   "metadata": {},
   "outputs": [],
   "source": [
    "def normalization(full_tweet):\n",
    "    df = pd.read_csv(\"colloquial-indonesian-lexicon.csv\", sep=\",\")\n",
    "    slang = list(df[\"slang\"])\n",
    "    formal = list(df[\"formal\"])\n",
    "    full_tweet = full_tweet.split()\n",
    "    new_tweet = []\n",
    "    for i in full_tweet:\n",
    "        for index, j in enumerate(slang):\n",
    "            if i == j:\n",
    "                i = formal[index]\n",
    "                # print(i)\n",
    "        new_tweet.append(i)\n",
    "    # new_tweet = ' '.join(new_tweet)\n",
    "    return(new_tweet)"
   ]
  },
  {
   "cell_type": "code",
   "execution_count": null,
   "metadata": {},
   "outputs": [],
   "source": [
    "def prepro(full_tweet):\n",
    "    full_tweet = full_tweet.lower()\n",
    "    full_tweet = re.sub(r'\\d+', '', full_tweet)\n",
    "    full_tweet = re.sub(r'(.)\\1+', r'\\1\\1', full_tweet) # menghapus char berulang \n",
    "    full_tweet = re.sub(r'(.)\\1{2,}', r'\\1', full_tweet)\n",
    "    full_tweet = full_tweet.translate(str.maketrans(\"\", \"\", string.punctuation))\n",
    "    full_tweet = full_tweet.strip(r'\\n')\n",
    "    full_tweet = full_tweet.strip(' ')\n",
    "    full_tweet = re.sub(r'((www\\.[\\S]+)|(https?://[\\S]+))','', full_tweet)\n",
    "    full_tweet = re.sub(r'@[\\S]+','', full_tweet)\n",
    "    full_tweet = re.sub(r'\\brt\\b', '', full_tweet) \n",
    "    full_tweet = normalization(full_tweet)\n",
    "    filtering = [i for i in list(full_tweet) if not i in listStopword]\n",
    "    full_tweet = [term for term in filtering if (term != \"\" and term != \"-\")]\n",
    "    full_tweet = \" \".join(full_tweet)\n",
    "    full_tweet = stemmer.stem(full_tweet)\n",
    "    return full_tweet"
   ]
  },
  {
   "cell_type": "code",
   "execution_count": 7,
   "metadata": {},
   "outputs": [],
   "source": [
    "master_data = collection.find()\n",
    "prepared_data = {}"
   ]
  },
  {
   "cell_type": "code",
   "execution_count": 8,
   "metadata": {},
   "outputs": [],
   "source": [
    "for data in master_data:\n",
    "    prepared_data[\"id\"] = data[\"id\"]\n",
    "    prepared_data[\"tweet\"] = data[\"text\"]"
   ]
  },
  {
   "cell_type": "code",
   "execution_count": 10,
   "metadata": {},
   "outputs": [
    {
     "name": "stdout",
     "output_type": "stream",
     "text": [
      "2\n"
     ]
    }
   ],
   "source": [
    "print(len(prepared_data))"
   ]
  }
 ],
 "metadata": {
  "kernelspec": {
   "display_name": "Python 3",
   "language": "python",
   "name": "python3"
  },
  "language_info": {
   "codemirror_mode": {
    "name": "ipython",
    "version": 3
   },
   "file_extension": ".py",
   "mimetype": "text/x-python",
   "name": "python",
   "nbconvert_exporter": "python",
   "pygments_lexer": "ipython3",
   "version": "3.8.6"
  }
 },
 "nbformat": 4,
 "nbformat_minor": 4
}
